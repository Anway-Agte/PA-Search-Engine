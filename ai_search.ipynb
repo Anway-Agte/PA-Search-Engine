{
 "cells": [
  {
   "cell_type": "markdown",
   "metadata": {},
   "source": [
    "## 1. Create text indexing"
   ]
  },
  {
   "cell_type": "code",
   "execution_count": 1,
   "metadata": {},
   "outputs": [
    {
     "name": "stdout",
     "output_type": "stream",
     "text": [
      "\u001b[33mWARNING: Skipping /opt/homebrew/lib/python3.11/site-packages/six-1.16.0-py3.11.egg-info due to invalid metadata entry 'name'\u001b[0m\u001b[33m\n",
      "\u001b[0m\u001b[33mWARNING: Skipping /opt/homebrew/lib/python3.11/site-packages/six-1.16.0-py3.11.egg-info due to invalid metadata entry 'name'\u001b[0m\u001b[33m\n",
      "\u001b[0m\u001b[33mWARNING: Skipping /opt/homebrew/lib/python3.11/site-packages/pycparser-2.21.dist-info due to invalid metadata entry 'name'\u001b[0m\u001b[33m\n",
      "\u001b[0m\u001b[33mWARNING: Skipping /opt/homebrew/lib/python3.11/site-packages/cffi-1.16.0.dist-info due to invalid metadata entry 'name'\u001b[0m\u001b[33m\n",
      "\u001b[0mRequirement already satisfied: txtai in /opt/homebrew/lib/python3.11/site-packages (6.1.0)\n",
      "Requirement already satisfied: faiss-cpu>=1.7.1.post2 in /opt/homebrew/lib/python3.11/site-packages (from txtai) (1.7.4)\n",
      "Requirement already satisfied: torch>=1.12.1 in /opt/homebrew/lib/python3.11/site-packages (from txtai) (2.1.0)\n",
      "Requirement already satisfied: transformers>=4.22.0 in /opt/homebrew/lib/python3.11/site-packages (from txtai) (4.34.1)\n",
      "Requirement already satisfied: huggingface-hub>=0.9.0 in /opt/homebrew/lib/python3.11/site-packages (from txtai) (0.17.3)\n",
      "Requirement already satisfied: numpy>=1.18.4 in /opt/homebrew/lib/python3.11/site-packages (from txtai) (1.26.1)\n",
      "Requirement already satisfied: pyyaml>=5.3 in /opt/homebrew/lib/python3.11/site-packages (from txtai) (6.0.1)\n",
      "Requirement already satisfied: regex>=2022.8.17 in /opt/homebrew/lib/python3.11/site-packages (from txtai) (2023.10.3)\n",
      "Requirement already satisfied: filelock in /opt/homebrew/lib/python3.11/site-packages (from huggingface-hub>=0.9.0->txtai) (3.13.1)\n",
      "Requirement already satisfied: fsspec in /opt/homebrew/lib/python3.11/site-packages (from huggingface-hub>=0.9.0->txtai) (2023.10.0)\n",
      "Requirement already satisfied: requests in /opt/homebrew/lib/python3.11/site-packages (from huggingface-hub>=0.9.0->txtai) (2.31.0)\n",
      "Requirement already satisfied: tqdm>=4.42.1 in /opt/homebrew/lib/python3.11/site-packages (from huggingface-hub>=0.9.0->txtai) (4.66.1)\n",
      "Requirement already satisfied: typing-extensions>=3.7.4.3 in /opt/homebrew/lib/python3.11/site-packages (from huggingface-hub>=0.9.0->txtai) (4.8.0)\n",
      "Requirement already satisfied: packaging>=20.9 in /opt/homebrew/lib/python3.11/site-packages (from huggingface-hub>=0.9.0->txtai) (23.2)\n",
      "Requirement already satisfied: sympy in /opt/homebrew/lib/python3.11/site-packages (from torch>=1.12.1->txtai) (1.12)\n",
      "Requirement already satisfied: networkx in /opt/homebrew/lib/python3.11/site-packages (from torch>=1.12.1->txtai) (3.2.1)\n",
      "Requirement already satisfied: jinja2 in /opt/homebrew/lib/python3.11/site-packages (from torch>=1.12.1->txtai) (3.1.2)\n",
      "Requirement already satisfied: tokenizers<0.15,>=0.14 in /opt/homebrew/lib/python3.11/site-packages (from transformers>=4.22.0->txtai) (0.14.1)\n",
      "Requirement already satisfied: safetensors>=0.3.1 in /opt/homebrew/lib/python3.11/site-packages (from transformers>=4.22.0->txtai) (0.4.0)\n",
      "Requirement already satisfied: MarkupSafe>=2.0 in /opt/homebrew/lib/python3.11/site-packages (from jinja2->torch>=1.12.1->txtai) (2.1.3)\n",
      "Requirement already satisfied: charset-normalizer<4,>=2 in /opt/homebrew/lib/python3.11/site-packages (from requests->huggingface-hub>=0.9.0->txtai) (3.3.2)\n",
      "Requirement already satisfied: idna<4,>=2.5 in /opt/homebrew/lib/python3.11/site-packages (from requests->huggingface-hub>=0.9.0->txtai) (3.4)\n",
      "Requirement already satisfied: urllib3<3,>=1.21.1 in /opt/homebrew/lib/python3.11/site-packages (from requests->huggingface-hub>=0.9.0->txtai) (2.0.7)\n",
      "Requirement already satisfied: certifi>=2017.4.17 in /opt/homebrew/lib/python3.11/site-packages (from requests->huggingface-hub>=0.9.0->txtai) (2023.7.22)\n",
      "Requirement already satisfied: mpmath>=0.19 in /opt/homebrew/lib/python3.11/site-packages (from sympy->torch>=1.12.1->txtai) (1.3.0)\n",
      "\u001b[33mWARNING: Skipping /opt/homebrew/lib/python3.11/site-packages/six-1.16.0-py3.11.egg-info due to invalid metadata entry 'name'\u001b[0m\u001b[33m\n",
      "\u001b[0m\u001b[33mWARNING: Skipping /opt/homebrew/lib/python3.11/site-packages/pycparser-2.21.dist-info due to invalid metadata entry 'name'\u001b[0m\u001b[33m\n",
      "\u001b[0m\u001b[33mWARNING: Skipping /opt/homebrew/lib/python3.11/site-packages/cffi-1.16.0.dist-info due to invalid metadata entry 'name'\u001b[0m\u001b[33m\n",
      "\u001b[0m\u001b[33mWARNING: Skipping /opt/homebrew/lib/python3.11/site-packages/six-1.16.0-py3.11.egg-info due to invalid metadata entry 'name'\u001b[0m\u001b[33m\n",
      "\u001b[0m\u001b[33mWARNING: Skipping /opt/homebrew/lib/python3.11/site-packages/six-1.16.0-py3.11.egg-info due to invalid metadata entry 'name'\u001b[0m\u001b[33m\n",
      "\u001b[0m\u001b[33mWARNING: Skipping /opt/homebrew/lib/python3.11/site-packages/pycparser-2.21.dist-info due to invalid metadata entry 'name'\u001b[0m\u001b[33m\n",
      "\u001b[0m\u001b[33mWARNING: Skipping /opt/homebrew/lib/python3.11/site-packages/cffi-1.16.0.dist-info due to invalid metadata entry 'name'\u001b[0m\u001b[33m\n",
      "\u001b[0m\u001b[33mWARNING: Skipping /opt/homebrew/lib/python3.11/site-packages/six-1.16.0-py3.11.egg-info due to invalid metadata entry 'name'\u001b[0m\u001b[33m\n",
      "\u001b[0m\u001b[33mWARNING: Skipping /opt/homebrew/lib/python3.11/site-packages/pycparser-2.21.dist-info due to invalid metadata entry 'name'\u001b[0m\u001b[33m\n",
      "\u001b[0m\u001b[33mWARNING: Skipping /opt/homebrew/lib/python3.11/site-packages/cffi-1.16.0.dist-info due to invalid metadata entry 'name'\u001b[0m\u001b[33m\n",
      "\u001b[0m\n",
      "\u001b[1m[\u001b[0m\u001b[34;49mnotice\u001b[0m\u001b[1;39;49m]\u001b[0m\u001b[39;49m A new release of pip is available: \u001b[0m\u001b[31;49m23.2.1\u001b[0m\u001b[39;49m -> \u001b[0m\u001b[32;49m23.3.1\u001b[0m\n",
      "\u001b[1m[\u001b[0m\u001b[34;49mnotice\u001b[0m\u001b[1;39;49m]\u001b[0m\u001b[39;49m To update, run: \u001b[0m\u001b[32;49mpython3.11 -m pip install --upgrade pip\u001b[0m\n",
      "Note: you may need to restart the kernel to use updated packages.\n"
     ]
    },
    {
     "name": "stderr",
     "output_type": "stream",
     "text": [
      "/opt/homebrew/lib/python3.11/site-packages/tqdm/auto.py:21: TqdmWarning: IProgress not found. Please update jupyter and ipywidgets. See https://ipywidgets.readthedocs.io/en/stable/user_install.html\n",
      "  from .autonotebook import tqdm as notebook_tqdm\n"
     ]
    }
   ],
   "source": [
    "%pip install txtai\n",
    "from txtai.embeddings import Embeddings\n",
    "import json\n",
    "import os\n",
    "\n",
    "embeddings = Embeddings({\n",
    "    \"path\": \"sentence-transformers/all-MiniLM-L6-v2\"\n",
    "})"
   ]
  },
  {
   "cell_type": "code",
   "execution_count": 2,
   "metadata": {},
   "outputs": [
    {
     "data": {
      "text/plain": [
       "(0,\n",
       " 'Copy of 1517.txt\\n1. What is the potential public welfare \\nbenefit of CF/LENR? \\n\\n• Cheap, unlimited energy \\n• Elemental transmutation \\n• Other direct benefits (e.g. dispersed \\nunits, low O&M) \\n• Many indirect benefits (e.g. reduced \\nenergy related environmental impacts) \\n\\n\\n2. What is Evidence-Based Policymaking? \\n\\n• Public decisions based on facts \\n• Underpinnings in realism and \\npragmatism \\n• Less emphasis on ideology \\n• Rational policy for the public welfare \\nbenefit \\n\\n\\n3. What are the Levels of Evidence to \\nguide rational policymaking? \\n\\n\\n4. What are the policy responses for  emerging \\ntechnologies? \\n\\n\\n5. What is the Level of Evidence for CR/LENR \\nreality? \\n\\n\\n6. What should be the Evidence-Based \\npolicy for CF/LENR support? \\n\\nPolicy Conclusions \\n• CF/LENR should not have been rejected in the first place \\n• Reinstatement is minimum rational response \\n• Support with hot fusion levels is warranted \\n• Crash program may now be well justified for the public \\nwelfare benefit \\nBorrowing from the legal field… \\nAssuring rational policy for new sources of energy… \\nDemonstrating an increasingly stronger case… \\nBasing level of support on increasing evidence… \\n',\n",
       " None)"
      ]
     },
     "execution_count": 2,
     "metadata": {},
     "output_type": "execute_result"
    }
   ],
   "source": [
    "txtai_data = []\n",
    "i = 0\n",
    "\n",
    "file_list = os.listdir(\"PA_LENR/Clean data/\")\n",
    "\n",
    "for idx, filename in enumerate(file_list):\n",
    "    with open(\"PA_LENR/Clean data/\"+filename, 'r') as f:\n",
    "        text = filename + \"\\n\" + f.read()\n",
    "        txtai_data.append((idx, text, None))\n",
    "\n",
    "txtai_data[0]\n",
    "\n"
   ]
  },
  {
   "cell_type": "code",
   "execution_count": 3,
   "metadata": {},
   "outputs": [],
   "source": [
    "# Create an index for the list of text\n",
    "embeddings.index(txtai_data)"
   ]
  },
  {
   "cell_type": "code",
   "execution_count": 21,
   "metadata": {},
   "outputs": [
    {
     "name": "stdout",
     "output_type": "stream",
     "text": [
      "top 10 results:\n",
      "Paper ID\tScore\n"
     ]
    },
    {
     "data": {
      "text/plain": [
       "[(133, 0.5035502910614014),\n",
       " (192, 0.3200875520706177),\n",
       " (105, 0.3085467517375946),\n",
       " (206, 0.30305764079093933),\n",
       " (83, 0.29121920466423035),\n",
       " (120, 0.2858678102493286),\n",
       " (202, 0.2802451550960541),\n",
       " (69, 0.26730239391326904),\n",
       " (138, 0.266194224357605),\n",
       " (43, 0.2625904679298401)]"
      ]
     },
     "execution_count": 21,
     "metadata": {},
     "output_type": "execute_result"
    }
   ],
   "source": [
    "original_text = \"magneto-charged particles (hypothetical magnetic monopoles) with surface of MDS (Al-SiO2-Si) structure. We have observed the traces of ordered thermomechanical impact on the surfaces\"\n",
    "keyword_search_result = embeddings.search(original_text, 10)\n",
    "print(\"top 10 results:\\nPaper ID\\tScore\")\n",
    "\n",
    "keyword_search_result[:10]"
   ]
  },
  {
   "cell_type": "code",
   "execution_count": 17,
   "metadata": {},
   "outputs": [
    {
     "name": "stdout",
     "output_type": "stream",
     "text": [
      "{(133, 'Copy of 18.txt\\nIntroduction\\n\\nIn our previous work [1,2] we have presented the results of observation and investigation of\\ninteraction of unknown magneto-charged particles (hypothetical magnetic monopoles) with\\nsurface of MDS (Al-SiO2-Si) structure. We have observed the traces of ordered thermomechanical impact on the surfaces (Fig. 1). The length of trace was L \\uf0bb 2 mm. These results\\nwere observed during experiments in Kiev Electrodynamics Laboratory “Proton-21” on\\nachieving the superdense state of matter by using the high-current electron driver [3]. In the\\nexperimental setup an impulse electron flux with a total energy about 100...200 J and duration\\n\\uf074\\uf0bb50 ns was used as a coherent driver in every cycle of supercompression. The energy of each\\nelectron in different experiments is about 300...400 kV, the total current - 50...70 kA . Figure 1. The general view and details of MDS-structure with the tracks\\n\\nIt was shown that the source of a great specific energy release, dQtot/dl \\uf0bb -106 GeV/cm, spent\\non the formation of these traces, may be the processes of nuclear synthesis reactions\\nAl27+C12 = K39, Al27+C13 = K40, which are running with the participation of MDS-structure\\nsurface nuclei and are stimulated by the action of magnetic monopoles [1,2].\\n\\nIn the present work the parameters of these monopoles and the mechanisms of their creation in\\nEarth laboratory are discussed and calculated.\\n\\n\\n1. Parameters of magneto-charged particle\\n\\nIn our previous work [1,2] it was shown that the process of formation of periodic tracks is\\nconnected with a magnetic interaction of magneto-charged particle with both magnetic field of\\nanode current and multilayer MDS structure, which is the combination of diamagnetics (Si, SiO\\nand melted ionized Al) and paramagnetic (solid Al) layers. In view of the form of a macrotrack\\n(involving the great number of strictly periodic oscillations [1,2]), we may conclude that the\\ncontrolling magnetic field is approximately the same along the entire trajectory. This\\ncorresponds to the fact that formation duration of mentioned track part is significantly less than\\nthe total duration \\uf074\\uf0bb50 ns of the current pulse. If this duration was comparable with \\uf074, then the\\nperiod of oscillations at the beginning and at the end of the track would be essentially different.\\n\\nThis result allows us to assume that the duration of the formation of this part of the track with\\nthe length , and the mean longitudinal velocity of motion of the\\nhypothetical magneto-charged particle <vg> is greater than 4.107\\ncm/s. The maximal longitudinal velocity (in view of periodical stopping and periodical stimulation\\nof fusion reactions along the trace [1,2]) is vg 108\\ncm/s\\n\\nDuring detailed SIMS-researches it was shown that the area of unknown particle \"point of\\nreflection\" (Fig. 2) is the foreign small-size (about 10 microns) object made of Fe56, Fe57 and\\nCo59 isotopes and situated on the MDS structure. Figure 2. General view and the details of unknown particle reflection area on MDS surface. \\n\\nThis object is made of iron-cobalt alloy and it is probably multi-domain magnetic material\\nwith the typical internal magnetic field H0 6...8 kOe . The typical size of domain wall is about\\n microns. The same size has the area of magnetic field outside\\nthe magnetic material. If the magnetic charge of the particle equals g e  (137...68) than the\\nmagnitude of magnetic potential barrier in the area of «point of reflection» equals (see Fig. 3) Figure 3. The scheme of reflection of magnetic charge from magnetic domain\\nFrom these results the upper estimation of unknown magneto-charged particle mass can be\\nmade: The upper limit of magnetic monopole mass is less than Mg=10-23 gram, that is by 1016 times\\nless than previous well known cosmological estimations (10-7 gram) based on the grand unified\\ntheory! So with a high probability the unknown particle is a light magnetic monopole that was\\nintroduced by George Lochak [4], and that is the magneto-excited neutrino.\\n\\nThere are two possible ways for generation (creation) of such particles during the experiments\\nin “Proton-21” Lab:\\n1. These monopoles were created during nuclear processes of protonization and neutronization\\nin collapse zone with the presence of very strong squeezed nonuniform magnetic field in the\\nexperimental setup of \"Proton21\" Lab. Fundamental nuclear transformation in this setup\\nduring the formation (shock implosion) and explosion of this zone is described in [3, 5-7]. A\\nspecific mechanism of the generation of magnetic charge can be related with the topological\\nfeatures of the collapse zone.\\n2. Generation of these monopoles took place during the break of stable monopole-antimonopole\\npair of cosmological origin in very strong squeezed magnetic field.\\n\\nLet us consider the parameters of such processes.\\nParameters of such pair can be calculated with the use of conservation law for its total energy\\nIn this case the minimal meansquare size of monopole-antimonopole pair and maximal\\nmeansquare impulse of relative motion are following\\nFrom (5) it follows that rmin \\uf0b3 10-12 cm (if monopole mass Mg equals proton mass\\nmp =1.6.10-24 g) and rmin \\uf0b3 10-9 cm if monopole mass equals electron mass.\\nThe potential energy of monopole-antimonopole pair with the size of rmin is\\nThe maximal kinetic energy for relativistic and nonrelativistic motion of monopole and\\nantimonopole inside the pair is described by the equations\\nHere / 2 \\uf06dg g \\uf03d M is the reduced mass of monopole. From last two equations it follows that the\\nmotion of monopole (antimonopole) inside the pair is nonrelativistic:\\nFrom formulas (7-9) it also follows that the ratio of kinetic and potential energies in each pair\\nis very small both in nonrelativistic and relativistic cases\\nThis result proves that monopole-antimonopole pair is very stable neutral system.\\nThe total mass of such system in stable bound state is very small.\\nIn fact such pair is an invisible electro- and magneto- uncharged and extremely light object. It\\nis possible that such objects have existed (unnoticed) in the universe from the moment of the Big\\nBang\\n\\n\\n2. Break of monopole-antimonopol pair in a strong magnetic field\\n\\nIn Fig. 4 the structure of the potential hole of monopole-antimonopole bounded pair in the\\ncases of presence and absence of external locally homogeneous magnetic field H0 is presented. Figure 4. The structure of the potential hole of bounded monopole-antimonopole pair in the cases of presence\\nand absence of external magnetic field.\\n\\nThe resulting expression for the probability of such tunneling effect is the following\\nHere mp\\n- proton mass.\\nFor light Lochak\\'s monopole with Mg=mp and H0 1015 Oe we have \\uf074H \\uf0bb10230 years.\\nFor light monopole with Mg=me and H0  1010 Oe, H 0.1 s.\\nFor very light \"Lochak\\'s\" monopole with Mgс\\n2\\n1 keV at H0 107 Oe,  s. Formation\\nof such (and much more strong) magnetic field takes place in \"Proton21\" Lab experimental setup\\nduring fast pinch-effect of hard-current electron beam [3].\\n\\n\\nReferences\\n\\n1. Adamenko S.V., Vysotskii V.I.// 12th CMNS Proceedings, Japan, p. 356-366.\\n2. Adamenko S.V., Vysotskii V.I.// Surface, #3 (2006), p. 84-92.\\n3. Controlled Nucleosynthesis. Breakthroughs in Experiment and Theory, (Editors:\\nS.V.Adamenko, F.Selleri, A.van der Merwe), Series: Fundamental theories in Physics, v.156,\\nSpringer, 2007, 773 p.\\n4. Lochak G. Z.Naturforsch., v.62b (2007) p.231-246.\\n5. Adamenko S.V., Vysotskii V.I. Foundations of Physics Letters, v. 17, No. 3 (2004), p. 203-\\n233.\\n6. Adamenko S.V., Vysotskii V.I. Foundations of Physics, v. 34, No. 11 (2004), p. 1801-1831.\\n7. Adamenko S.V., Vysotskii V.I. Foundations of Phys. Letters, v.19, No. 1 (2006), p. 21-36.\\n\\n\\n\\n\\n', None)}\n"
     ]
    }
   ],
   "source": [
    "best_result = keyword_search_result[0]\n",
    "print({txtai_data[best_result[0]]}) # index, filename, text"
   ]
  },
  {
   "cell_type": "code",
   "execution_count": 26,
   "metadata": {},
   "outputs": [
    {
     "name": "stdout",
     "output_type": "stream",
     "text": [
      "top 5 results:\n",
      "Paper ID\tScore\n"
     ]
    },
    {
     "data": {
      "text/plain": [
       "[(133, 0.5131282806396484),\n",
       " (206, 0.3720241189002991),\n",
       " (105, 0.3371797800064087),\n",
       " (192, 0.33519652485847473),\n",
       " (10, 0.30324727296829224)]"
      ]
     },
     "execution_count": 26,
     "metadata": {},
     "output_type": "execute_result"
    }
   ],
   "source": [
    "manuel_rewrite = \"hypothetical magnetic monopoles particles magneto-charged with MDS structure. Observation of the trace of impactful thermomechanical on the surfaces\"\n",
    "chatgpt_rewrite = \"We have detected patterns indicative of systematic thermomechanical effects on the surfaces of magneto-charged particles (theoretical magnetic monopoles) with an MDS (Al-SiO2-Si) composition.\"\n",
    "semantic_search_result = embeddings.search(chatgpt_rewrite, 5)\n",
    "print(\"top 5 results:\\nPaper ID\\tScore\")\n",
    "\n",
    "semantic_search_result[:5]\n",
    "# using manuel_rewrite: 0.5176717638969421 for id=133 (top result)\n",
    "# using chatgpt_rewrite: 0.5131282806396484 for id=133 (top result)"
   ]
  },
  {
   "cell_type": "code",
   "execution_count": 6,
   "metadata": {},
   "outputs": [],
   "source": [
    "embeddings.save(\"models/vol7_index\")\n"
   ]
  }
 ],
 "metadata": {
  "kernelspec": {
   "display_name": "Python 3",
   "language": "python",
   "name": "python3"
  },
  "language_info": {
   "codemirror_mode": {
    "name": "ipython",
    "version": 3
   },
   "file_extension": ".py",
   "mimetype": "text/x-python",
   "name": "python",
   "nbconvert_exporter": "python",
   "pygments_lexer": "ipython3",
   "version": "3.11.6"
  }
 },
 "nbformat": 4,
 "nbformat_minor": 2
}
