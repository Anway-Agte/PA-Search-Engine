{
 "cells": [
  {
   "cell_type": "markdown",
   "metadata": {},
   "source": [
    "## 1. Create text indexing"
   ]
  },
  {
   "cell_type": "code",
   "execution_count": 1,
   "metadata": {},
   "outputs": [
    {
     "name": "stdout",
     "output_type": "stream",
     "text": [
      "Requirement already satisfied: txtai in /Users/Ian/opt/anaconda3/lib/python3.9/site-packages (6.2.0)\n",
      "Requirement already satisfied: faiss-cpu>=1.7.1.post2 in /Users/Ian/opt/anaconda3/lib/python3.9/site-packages (from txtai) (1.7.4)\n",
      "Requirement already satisfied: torch>=1.12.1 in /Users/Ian/opt/anaconda3/lib/python3.9/site-packages (from txtai) (2.1.0)\n",
      "Requirement already satisfied: transformers>=4.22.0 in /Users/Ian/opt/anaconda3/lib/python3.9/site-packages (from txtai) (4.32.1)\n",
      "Requirement already satisfied: huggingface-hub>=0.9.0 in /Users/Ian/opt/anaconda3/lib/python3.9/site-packages (from txtai) (0.15.1)\n",
      "Requirement already satisfied: numpy>=1.18.4 in /Users/Ian/opt/anaconda3/lib/python3.9/site-packages (from txtai) (1.24.3)\n",
      "Requirement already satisfied: pyyaml>=5.3 in /Users/Ian/opt/anaconda3/lib/python3.9/site-packages (from txtai) (6.0)\n",
      "Requirement already satisfied: regex>=2022.8.17 in /Users/Ian/opt/anaconda3/lib/python3.9/site-packages (from txtai) (2023.10.3)\n",
      "Requirement already satisfied: filelock in /Users/Ian/opt/anaconda3/lib/python3.9/site-packages (from huggingface-hub>=0.9.0->txtai) (3.9.0)\n",
      "Requirement already satisfied: fsspec in /Users/Ian/opt/anaconda3/lib/python3.9/site-packages (from huggingface-hub>=0.9.0->txtai) (2023.4.0)\n",
      "Requirement already satisfied: requests in /Users/Ian/opt/anaconda3/lib/python3.9/site-packages (from huggingface-hub>=0.9.0->txtai) (2.31.0)\n",
      "Requirement already satisfied: tqdm>=4.42.1 in /Users/Ian/opt/anaconda3/lib/python3.9/site-packages (from huggingface-hub>=0.9.0->txtai) (4.65.0)\n",
      "Requirement already satisfied: typing-extensions>=3.7.4.3 in /Users/Ian/opt/anaconda3/lib/python3.9/site-packages (from huggingface-hub>=0.9.0->txtai) (4.8.0)\n",
      "Requirement already satisfied: packaging>=20.9 in /Users/Ian/opt/anaconda3/lib/python3.9/site-packages (from huggingface-hub>=0.9.0->txtai) (23.1)\n",
      "Requirement already satisfied: sympy in /Users/Ian/opt/anaconda3/lib/python3.9/site-packages (from torch>=1.12.1->txtai) (1.11.1)\n",
      "Requirement already satisfied: networkx in /Users/Ian/opt/anaconda3/lib/python3.9/site-packages (from torch>=1.12.1->txtai) (3.1)\n",
      "Requirement already satisfied: jinja2 in /Users/Ian/opt/anaconda3/lib/python3.9/site-packages (from torch>=1.12.1->txtai) (2.11.3)\n",
      "Requirement already satisfied: tokenizers!=0.11.3,<0.14,>=0.11.1 in /Users/Ian/opt/anaconda3/lib/python3.9/site-packages (from transformers>=4.22.0->txtai) (0.13.2)\n",
      "Requirement already satisfied: safetensors>=0.3.1 in /Users/Ian/opt/anaconda3/lib/python3.9/site-packages (from transformers>=4.22.0->txtai) (0.3.2)\n",
      "Requirement already satisfied: MarkupSafe>=0.23 in /Users/Ian/opt/anaconda3/lib/python3.9/site-packages (from jinja2->torch>=1.12.1->txtai) (2.0.1)\n",
      "Requirement already satisfied: charset-normalizer<4,>=2 in /Users/Ian/opt/anaconda3/lib/python3.9/site-packages (from requests->huggingface-hub>=0.9.0->txtai) (2.0.4)\n",
      "Requirement already satisfied: idna<4,>=2.5 in /Users/Ian/opt/anaconda3/lib/python3.9/site-packages (from requests->huggingface-hub>=0.9.0->txtai) (3.4)\n",
      "Requirement already satisfied: urllib3<3,>=1.21.1 in /Users/Ian/opt/anaconda3/lib/python3.9/site-packages (from requests->huggingface-hub>=0.9.0->txtai) (1.26.16)\n",
      "Requirement already satisfied: certifi>=2017.4.17 in /Users/Ian/opt/anaconda3/lib/python3.9/site-packages (from requests->huggingface-hub>=0.9.0->txtai) (2023.11.17)\n",
      "Requirement already satisfied: mpmath>=0.19 in /Users/Ian/opt/anaconda3/lib/python3.9/site-packages (from sympy->torch>=1.12.1->txtai) (1.3.0)\n",
      "Note: you may need to restart the kernel to use updated packages.\n"
     ]
    },
    {
     "ename": "",
     "evalue": "",
     "output_type": "error",
     "traceback": [
      "\u001b[1;31mThe Kernel crashed while executing code in the the current cell or a previous cell. Please review the code in the cell(s) to identify a possible cause of the failure. Click <a href='https://aka.ms/vscodeJupyterKernelCrash'>here</a> for more info. View Jupyter <a href='command:jupyter.viewOutput'>log</a> for further details."
     ]
    }
   ],
   "source": [
    "%pip install txtai\n",
    "from txtai.embeddings import Embeddings\n",
    "import json\n",
    "import pandas as pd\n",
    "\n",
    "# embeddings = Embeddings({\n",
    "#     \"path\": \"sentence-transformers/all-MiniLM-L6-v2\"\n",
    "# })"
   ]
  },
  {
   "cell_type": "code",
   "execution_count": 2,
   "metadata": {},
   "outputs": [],
   "source": [
    "import pandas as pd\n",
    "import os\n",
    "\n",
    "\n",
    "txtai_data = []\n",
    "i = 0\n",
    "\n",
    "df = pd.DataFrame(columns=['id', 'text', 'label'])\n",
    "file_list = os.listdir(\"PA_LENR/Clean data/\")\n",
    "\n",
    "for idx, filename in enumerate(file_list):\n",
    "    with open(\"PA_LENR/Clean data/\"+filename, 'r') as f:\n",
    "        text = filename + \"\\n\" + f.read()\n",
    "        txtai_data.append((idx, text, None))\n",
    "        df.loc[idx] = [idx, text, None]\n",
    "\n",
    "txtai_data[0]\n",
    "\n",
    "df.to_csv(\"PA_LENR/PA_LENR.csv\", index=False)"
   ]
  },
  {
   "cell_type": "code",
   "execution_count": null,
   "metadata": {},
   "outputs": [],
   "source": [
    "# Create an index for the list of text\n",
    "embeddings.index(txtai_data)"
   ]
  },
  {
   "cell_type": "code",
   "execution_count": null,
   "metadata": {},
   "outputs": [],
   "source": [
    "original_text = \"magneto-charged particles (hypothetical magnetic monopoles) with surface of MDS (Al-SiO2-Si) structure. We have observed the traces of ordered thermomechanical impact on the surfaces\"\n",
    "keyword_search_result = embeddings.search(original_text, 10)\n",
    "print(\"top 10 results:\\nPaper ID\\tScore\")\n",
    "\n",
    "keyword_search_result[:10]"
   ]
  },
  {
   "cell_type": "code",
   "execution_count": null,
   "metadata": {},
   "outputs": [],
   "source": [
    "best_result = keyword_search_result[0]\n",
    "print({txtai_data[best_result[0]]}) # index, filename, text"
   ]
  },
  {
   "cell_type": "code",
   "execution_count": null,
   "metadata": {},
   "outputs": [],
   "source": [
    "manuel_rewrite = \"hypothetical magnetic monopoles particles magneto-charged with MDS structure. Observation of the trace of impactful thermomechanical on the surfaces\"\n",
    "chatgpt_rewrite = \"We have detected patterns indicative of systematic thermomechanical effects on the surfaces of magneto-charged particles (theoretical magnetic monopoles) with an MDS (Al-SiO2-Si) composition.\"\n",
    "semantic_search_result = embeddings.search(chatgpt_rewrite, 5)\n",
    "print(\"top 5 results:\\nPaper ID\\tScore\")\n",
    "\n",
    "semantic_search_result[:5]\n",
    "# using manuel_rewrite: 0.5176717638969421 for id=133 (top result)\n",
    "# using chatgpt_rewrite: 0.5131282806396484 for id=133 (top result)"
   ]
  },
  {
   "cell_type": "code",
   "execution_count": null,
   "metadata": {},
   "outputs": [],
   "source": [
    "embeddings.save(\"models/vol7_index\")\n"
   ]
  }
 ],
 "metadata": {
  "kernelspec": {
   "display_name": "Python 3",
   "language": "python",
   "name": "python3"
  },
  "language_info": {
   "codemirror_mode": {
    "name": "ipython",
    "version": 3
   },
   "file_extension": ".py",
   "mimetype": "text/x-python",
   "name": "python",
   "nbconvert_exporter": "python",
   "pygments_lexer": "ipython3",
   "version": "3.9.18"
  }
 },
 "nbformat": 4,
 "nbformat_minor": 2
}
